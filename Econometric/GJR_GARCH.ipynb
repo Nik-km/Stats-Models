{
 "cells": [
  {
   "cell_type": "markdown",
   "metadata": {},
   "source": [
    "### Estimating the Parameters of a GJR-GARCH Model\n",
    "Generalized autoregressive conditional heteroskedasticity (GARCH)\n",
    "\n",
    "This example will highlight the steps needed to estimate the parameters of a GJR-GARCH(1,1,1) model with a constant mean. The volatility dynamics in a GJR-GARCH model are given by\n",
    "    $$\\sigma^2_t = \\omega + \\sum_{i=1}^{p}\\alpha_i \\epsilon_{t-i}^2 + \\sum_{j=1}^{o} \\gamma_j r_{t-j}^2 I_{[\\epsilon_{t-j}<0]} + \\sum_{k=1}^q \\beta_k \\sigma_{t-k}^2$$\n",
    "\n",
    "Returns are assumed to be conditionally normal, $r_t|F_{t-1} \\sim N(\\mu, \\sigma_t^2), \\epsilon_t = r_t - \\mu$ and parameters are estimated by maximum likelihood. To estimate the parameters, it is necessary to:\n",
    "\n",
    "1. Produce some starting values\n",
    "2. Estimate the parameters using (quasi-) maximum likelihood\n",
    "3. Compute standard errors using a \"sandwich\" covariance estimator (aka. the [BollerslevWooldridge::1992] covariance estimator)\n",
    "\n",
    "The first task is to write the log-likelihood which can be used in an optimizer. The log-likelihood function will compute the volatility recursion and the log-likelihood. It will also, optionally, return the $T$ by 1 vector of individual log-likelihoods which are useful when approximating the scores.\n"
   ]
  },
  {
   "cell_type": "code",
   "execution_count": null,
   "metadata": {},
   "outputs": [],
   "source": [
    "import matplotlib.pyplot as plt\n",
    "import numpy as np\n",
    "import pandas as pd\n",
    "from numpy import size, log, pi, sum, array, zeros, diag, mat, asarray, sqrt, copy\n",
    "from numpy.linalg import inv\n",
    "from scipy.optimize import fmin_slsqp"
   ]
  },
  {
   "cell_type": "markdown",
   "metadata": {},
   "source": []
  },
  {
   "cell_type": "code",
   "execution_count": null,
   "metadata": {},
   "outputs": [],
   "source": [
    "def gjr_garch_likelihood(parameters, data, sigma2, out=None):\n",
    "    '''Returns negative log-likelihood for GJR-GARCH(1,1,1) model.'''\n",
    "    mu = parameters[0]\n",
    "    omega = parameters[1]\n",
    "    alpha = parameters[2]\n",
    "    gamma = parameters[3]\n",
    "    beta = parameters[4]\n",
    "    \n",
    "    T = size(data,0)\n",
    "    eps = data - mu\n",
    "    # Data and sigma2 are T by 1 vectors\n",
    "    for t in range(1,T):\n",
    "        sigma2[t] = (omega + alpha * eps[t-1]**2 \n",
    "                     + gamma * eps[t-1]**2 * (eps[t-1]<0) + beta * sigma2[t-1])\n",
    "    \n",
    "    logliks = 0.5*(log(2*pi) + log(sigma2) + eps**2/sigma2)\n",
    "    loglik = sum(logliks)\n",
    "    \n",
    "    if out is None:\n",
    "        return loglik\n",
    "    else:\n",
    "        return loglik, logliks, copy(sigma2)"
   ]
  },
  {
   "cell_type": "markdown",
   "metadata": {},
   "source": [
    "GJR - (Glosten, Jagannathan, and Runkle)"
   ]
  }
 ],
 "metadata": {
  "language_info": {
   "name": "python"
  }
 },
 "nbformat": 4,
 "nbformat_minor": 2
}
