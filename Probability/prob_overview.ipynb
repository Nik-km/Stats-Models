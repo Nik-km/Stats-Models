{
 "cells": [
  {
   "cell_type": "markdown",
   "metadata": {},
   "source": [
    "# Probability\n",
    "\n",
    "## Probability Distributions\n",
    "There are two primary types of probability distributions: i) discrete & ii) continuous\n",
    "\n",
    "Understanding these distributions is significant in stochastic processes b/c they model the randomness in variables that evolve \n",
    "over time. In finance, they help in modeling asset prices, returns, and other financial metrics (aiding in risk assessment & decision-making).\n",
    "\n",
    "1. Discrete Probability Distributions\n",
    "    - Apply when the set of possible outcomes are countable. Common examples: Binomial, Poisson, & Geometric distributions\n",
    "\n",
    "\n"
   ]
  },
  {
   "cell_type": "code",
   "execution_count": 344,
   "metadata": {},
   "outputs": [],
   "source": [
    "import numpy as np\n",
    "from fractions import Fraction\n",
    "import random"
   ]
  },
  {
   "cell_type": "markdown",
   "metadata": {},
   "source": [
    "_____________________________\n",
    "\n",
    "    "
   ]
  }
 ],
 "metadata": {
  "kernelspec": {
   "display_name": "base",
   "language": "python",
   "name": "python3"
  },
  "language_info": {
   "codemirror_mode": {
    "name": "ipython",
    "version": 3
   },
   "file_extension": ".py",
   "mimetype": "text/x-python",
   "name": "python",
   "nbconvert_exporter": "python",
   "pygments_lexer": "ipython3",
   "version": "3.12.4"
  }
 },
 "nbformat": 4,
 "nbformat_minor": 2
}
