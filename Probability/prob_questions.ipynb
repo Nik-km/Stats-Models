{
 "cells": [
  {
   "cell_type": "markdown",
   "metadata": {},
   "source": [
    "# Probability Questions\n",
    "\n",
    "### Rule of Thumbs\n",
    "- Simulating the conditional probability P(A|B) requires repeated simulation of the underlying random experiment, but restricting to trials in which B occurs.\n"
   ]
  },
  {
   "cell_type": "code",
   "execution_count": 16,
   "metadata": {},
   "outputs": [],
   "source": [
    "import numpy as np\n",
    "from fractions import Fraction\n",
    "import random"
   ]
  },
  {
   "cell_type": "markdown",
   "metadata": {},
   "source": [
    "### Question #1\n",
    "1) There are 10 coins in a bag, 9 of which are fair (50-50 chance of flipping heads or tails). One coin is biased s.t. both sides are heads. Now imagine you flip all 10 coins and then out of the 10 coins, you draw 1 coin that is heads. What is the probability that you actually drew the biased coin?\n",
    "\n",
    "    **Bayes Theorem**\n",
    "        $$P(A | B) = \\frac{P(A \\cap B)}{P(B)} = \\frac{P(A) \\cdot P(B | A)}{P(B)}$$\n",
    "\n",
    "\n",
    "    Let $H$ be the event that the flip is heads and $B$ is the event that the coin is biased. We're looking to solve for the probability $P(B | H)$.\n",
    "    \n",
    "    The probabilities of each event occuring is:\n",
    "    - $P(H | B) = 1$\n",
    "    - $P(B) = 1/10$\n",
    "    - $P(H) = P(B') \\cdot P(H) + P(B) \\cdot P(H) = (9/10)*(1/2) + (1/10)*(1) = \\frac{11}{20} = 0.55$\n",
    "\n",
    "    Using Bayes Theorem, we can solve for the conditional probability that the coin we drew is biased given the flip is heads.\n",
    "        $$P(B | H) = \\frac{P(B) \\cdot P(H | B)}{P(H)} = \\frac{(1/10) \\cdot 1}{0.55} = \\frac{2}{11} = 0.\\overline{1818}$$\n",
    "    "
   ]
  },
  {
   "cell_type": "code",
   "execution_count": 17,
   "metadata": {},
   "outputs": [
    {
     "name": "stdout",
     "output_type": "stream",
     "text": [
      "The conditional prob that the coin we drew is biased given the flip is heads is equal to 0.1818\n"
     ]
    }
   ],
   "source": [
    "#>> Theoretical solve\n",
    "Pr_B = 1/10\n",
    "Pr_H = (9/10)*(1/2) + (1/10)*(1)\n",
    "Pr_H_B = 1\n",
    "\n",
    "Pr_B_H = (Pr_B * Pr_H_B) / Pr_H\n",
    "\n",
    "print(f\"The conditional prob that the coin we drew is biased given the flip is heads is equal to {round(Pr_B_H, 4)}\")"
   ]
  },
  {
   "cell_type": "code",
   "execution_count": 18,
   "metadata": {},
   "outputs": [
    {
     "name": "stdout",
     "output_type": "stream",
     "text": [
      "Probability of drawing the biased coin given the flip was heads is approx. equal to 0.1828\n"
     ]
    }
   ],
   "source": [
    "#>> Solving through simulation\n",
    "# Specify the number of trials\n",
    "n = 10000\n",
    "# Initialize counter lists w/ 0's\n",
    "drew_biased = 0\n",
    "drew_heads = 0\n",
    "\n",
    "# Run the trials\n",
    "for i in range(0, n):\n",
    "    # Simulate flipping the 10 coins (1=heads, 0=tails)\n",
    "    flips = [random.randint(0,1) for _ in range(9)]     # Flip 9 fair coins\n",
    "    flips.append(1)                                     # Add 1 H for the biased coin (10th coin is always biased in the list)\n",
    "    # Draw 1 coin from the pile\n",
    "    draw = random.randint(0,9)\n",
    "    # Check whether you drew a head\n",
    "    if flips[draw] == 1:\n",
    "        drew_heads += 1\n",
    "    # Check if you drew the biased coin\n",
    "    if draw == 9:\n",
    "        drew_biased += 1\n",
    "\n",
    "# Compute the conditional probability\n",
    "# - numerator: only the times when you drew the biased coin\n",
    "# - demoninator: only the times when you draw heads\n",
    "sim_pr_B_H = drew_biased / drew_heads\n",
    "\n",
    "print(f\"Probability of drawing the biased coin given the flip was heads is approx. equal to {round(sim_pr_B_H, 4)}\")"
   ]
  },
  {
   "cell_type": "markdown",
   "metadata": {},
   "source": [
    "### Question #2\n",
    "Suppose 2 fair 6-sided dice are tossed, what is the probability that the first die is 2 given that the sum is 7?\n",
    "\n",
    "States in which the sum of the rolls is 7:\n",
    "- {1,6}, {2,5}, {3,4}, {4,3}, {5,2}, {6,1}\n",
    "\n",
    "$n(S) = 6$\n",
    "\n",
    "$n(\\Omega) = 6 \\cdot 6 = 36$\n",
    "\n",
    "$$P(\\text{First die is 2} | \\text{Sum is 7}) = \\frac{P(\\text{First die is 2}) \\cdot P(\\text{Sum is 7} | \\text{First die is 2})}{P(\\text{Sum is 7})}$$\n",
    "\n",
    "- $P(\\text{First die is 2}) = 1/6$\n",
    "- $P(\\text{Sum is 7}) = 6/36 = 1/6$\n",
    "- $P(\\text{Sum is 7} | \\text{First die is 2}) = 1/36$\n",
    "\n",
    "$$P(\\text{First die is 2} | \\text{Sum is 7}) = \\frac{(1/6) \\cdot (1/36)}{1/6} = 1/6$$\n"
   ]
  },
  {
   "cell_type": "code",
   "execution_count": 112,
   "metadata": {},
   "outputs": [
    {
     "name": "stdout",
     "output_type": "stream",
     "text": [
      "Probability that the first die is 2 given the sum is 7 is approx. equal to 0.1814\n"
     ]
    }
   ],
   "source": [
    "# In this case, we repeatly toss 2 dice, but the only data that we keep are those pairs whose sum is 7.\n",
    "\n",
    "# Specify the number of trials\n",
    "n = 10000\n",
    "# Initialize list with 0's\n",
    "simlist = [0] * n\n",
    "counter = 0\n",
    "\n",
    "# Run dice simulations\n",
    "while counter < n:\n",
    "    trial = [random.randint(1,6) for _ in range(2)]  # Roll 2 dice\n",
    "    if sum(trial) == 7:  # Check if sum is 7\n",
    "        # If 7, check if first die is a 2\n",
    "        success = 1 if trial[0] == 2 else 0\n",
    "        simlist[counter] = success\n",
    "        counter += 1\n",
    "        # simlist records successes and failures only for dice rolls that sum to 7\n",
    "\n",
    "# Simulated result\n",
    "sim_prob = sum(simlist) / counter\n",
    "print(f\"Probability that the first die is 2 given the sum is 7 is approx. equal to {round(sim_prob, 4)}\")"
   ]
  },
  {
   "cell_type": "markdown",
   "metadata": {},
   "source": [
    "### Question #3\n",
    "\n",
    "Suppose 3 dice are tossed and we want to find the probability of the first die is 4 given that the sum is 10.\n",
    "\n",
    "Events where the sum of dice rolls is 10:\n",
    "- {1,3,6} , {1,4,5} , {2,2,6} , {2,3,5} , {2,4,4} , {3, 3, 4}\n",
    "\n",
    "Exact answer: 5/27\n",
    "\n"
   ]
  }
 ],
 "metadata": {
  "kernelspec": {
   "display_name": "base",
   "language": "python",
   "name": "python3"
  },
  "language_info": {
   "codemirror_mode": {
    "name": "ipython",
    "version": 3
   },
   "file_extension": ".py",
   "mimetype": "text/x-python",
   "name": "python",
   "nbconvert_exporter": "python",
   "pygments_lexer": "ipython3",
   "version": "3.12.4"
  }
 },
 "nbformat": 4,
 "nbformat_minor": 2
}
